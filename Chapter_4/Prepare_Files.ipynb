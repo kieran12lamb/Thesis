{
 "cells": [
  {
   "cell_type": "code",
   "execution_count": 186,
   "metadata": {},
   "outputs": [],
   "source": [
    "import pandas\n",
    "alias_file = \"Metadata/local_aliases.json\""
   ]
  },
  {
   "cell_type": "code",
   "execution_count": 187,
   "metadata": {},
   "outputs": [],
   "source": [
    "import json\n",
    "from Bio import SeqIO\n",
    "with open(alias_file, \"r\") as file: \n",
    "    lineage_aliases = json.load(file) \n",
    "    lineage_aliases = {k: v for k, v in lineage_aliases.items() if v != \"\"}"
   ]
  },
  {
   "cell_type": "code",
   "execution_count": 188,
   "metadata": {},
   "outputs": [],
   "source": [
    "import json\n",
    "def is_recombinant_lineage(lineage, lineage_aliases):\n",
    "    if lineage.split(\".\")[0] in lineage_aliases:\n",
    "        alias = lineage_aliases[lineage.split(\".\")[0]]\n",
    "        if isinstance(alias, str) == False:\n",
    "            return True\n",
    "    return False"
   ]
  },
  {
   "cell_type": "code",
   "execution_count": 189,
   "metadata": {},
   "outputs": [],
   "source": [
    "def convert_lineage_name(lineage, lineage_aliases):\n",
    "    if lineage.split(\".\")[0] in lineage_aliases:\n",
    "        alias = [lineage_aliases[lineage.split(\".\")[0]]]\n",
    "        remainder = lineage.split(\".\")[1:]\n",
    "        return \".\".join(alias + remainder)\n",
    "    elif len(lineage.split(\".\")) > 4 and \".\".join(lineage.split(\".\")[:5]) in lineage_aliases:\n",
    "        alias = [lineage_aliases[\".\".join(lineage.split(\".\")[:5])]]\n",
    "        remainder = lineage.split(\".\")[5:]\n",
    "        return \".\".join(alias + remainder)\n",
    "    return lineage"
   ]
  },
  {
   "cell_type": "code",
   "execution_count": 195,
   "metadata": {},
   "outputs": [],
   "source": [
    "fasta_file = \"Sequences/Generated_Sequences/pseudo_references.fasta\"\n",
    "sequences = SeqIO.parse(fasta_file, \"fasta\")\n",
    "records = []\n",
    "for sequence in sequences:\n",
    "    if sequence.id != \"UNASSIGNED\":\n",
    "        name = sequence.id.split('|')[1]\n",
    "        record = SeqIO.SeqRecord(sequence.seq, id=name, description=\"\")\n",
    "        records.append(record)\n",
    "output_file = 'Sequences/Generated_Sequences/pseudo_references.fasta'\n",
    "SeqIO.write(records, output_file, \"fasta\")"
   ]
  },
  {
   "cell_type": "code",
   "execution_count": null,
   "metadata": {},
   "outputs": [],
   "source": []
  },
  {
   "cell_type": "code",
   "execution_count": null,
   "metadata": {},
   "outputs": [],
   "source": [
    "# For pseudoreferences\n",
    "julia FastaMutationsJulia.jl \n",
    "--reference_file \"Resources/References/GISAID_REFERENCE.gb\" --fasta_file \"Sequences/Generated_Sequences/annotated_pseudo_references.fasta\"  --output \"Output/Generated_Sequences/\" --alias_file \"Metadata/local_aliases.json\""
   ]
  },
  {
   "cell_type": "code",
   "execution_count": 202,
   "metadata": {},
   "outputs": [],
   "source": [
    "muts_norm = pd.read_csv('/home4/2191618l/Github/Chapter3/CO_MU_SARS-CoV-2/Output/Generated_Sequences/Normalised/mutations.csv')\n",
    "muts = pd.read_csv('/home4/2191618l/Github/Chapter3/CO_MU_SARS-CoV-2/Output/Generated_Sequences/Reference/mutations.csv')"
   ]
  },
  {
   "cell_type": "code",
   "execution_count": 204,
   "metadata": {},
   "outputs": [],
   "source": [
    "muts['Alias'] = muts.Sequence_Name.str.split('|',expand=True)[0]\n",
    "muts_norm['Alias'] = muts_norm.Sequence_Name.str.split('|',expand=True)[0]"
   ]
  },
  {
   "cell_type": "code",
   "execution_count": 205,
   "metadata": {},
   "outputs": [
    {
     "data": {
      "text/plain": [
       "S:S371L    2\n",
       "S:A67V     1\n",
       "S:Q498R    1\n",
       "S:N969K    1\n",
       "S:Q954H    1\n",
       "S:N856K    1\n",
       "S:D796Y    1\n",
       "S:N764K    1\n",
       "S:P681H    1\n",
       "S:N679K    1\n",
       "S:H655Y    1\n",
       "S:D614G    1\n",
       "S:T547K    1\n",
       "S:Y505H    1\n",
       "S:N501Y    1\n",
       "S:G496S    1\n",
       "S:T95I     1\n",
       "S:Q493R    1\n",
       "S:E484A    1\n",
       "S:T478K    1\n",
       "S:S477N    1\n",
       "S:G446S    1\n",
       "S:N440K    1\n",
       "S:K417N    1\n",
       "S:S375F    1\n",
       "S:S373P    1\n",
       "S:G339D    1\n",
       "S:L212I    1\n",
       "S:Y145D    1\n",
       "S:L981F    1\n",
       "Name: Amino_Acid, dtype: int64"
      ]
     },
     "execution_count": 205,
     "metadata": {},
     "output_type": "execute_result"
    }
   ],
   "source": [
    "muts[(muts.Alias == \"BA.1\") & (muts.REF != \"-\") & (muts.ALT != \"-\") & (muts.Amino_Acid.str[-1] !='X') & (muts.ORF =='S')].Amino_Acid.value_counts()"
   ]
  },
  {
   "cell_type": "code",
   "execution_count": 206,
   "metadata": {},
   "outputs": [
    {
     "data": {
      "text/plain": [
       "S:A67V     1\n",
       "S:T95I     1\n",
       "S:Y145D    1\n",
       "S:L212I    1\n",
       "S:F371L    1\n",
       "S:G446S    1\n",
       "S:G496S    1\n",
       "S:T547K    1\n",
       "S:N856K    1\n",
       "S:L981F    1\n",
       "Name: Amino_Acid, dtype: int64"
      ]
     },
     "execution_count": 206,
     "metadata": {},
     "output_type": "execute_result"
    }
   ],
   "source": [
    "muts_norm[(muts_norm.Alias == \"BA.1\") & (muts_norm.REF != \"-\") & (muts_norm.ALT != \"-\") & (muts_norm.Amino_Acid.str[-1] !='X') & (muts_norm.ORF =='S')].Amino_Acid.value_counts()"
   ]
  },
  {
   "cell_type": "code",
   "execution_count": null,
   "metadata": {},
   "outputs": [],
   "source": []
  }
 ],
 "metadata": {
  "kernelspec": {
   "display_name": "signatures",
   "language": "python",
   "name": "python3"
  },
  "language_info": {
   "codemirror_mode": {
    "name": "ipython",
    "version": 3
   },
   "file_extension": ".py",
   "mimetype": "text/x-python",
   "name": "python",
   "nbconvert_exporter": "python",
   "pygments_lexer": "ipython3",
   "version": "3.7.11"
  }
 },
 "nbformat": 4,
 "nbformat_minor": 2
}
