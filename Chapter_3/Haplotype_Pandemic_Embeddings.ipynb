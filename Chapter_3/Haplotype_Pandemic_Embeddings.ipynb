{
 "cells": [
  {
   "cell_type": "code",
   "execution_count": 105,
   "id": "8pdVt-QrreVd",
   "metadata": {
    "id": "8pdVt-QrreVd"
   },
   "outputs": [
    {
     "name": "stdout",
     "output_type": "stream",
     "text": [
      "The autoreload extension is already loaded. To reload it, use:\n",
      "  %reload_ext autoreload\n"
     ]
    }
   ],
   "source": [
    "%load_ext autoreload\n",
    "%autoreload 2\n",
    "from Bio import SeqIO\n",
    "from Bio.Seq import Seq\n",
    "import pandas as pd\n",
    "import numpy as np\n",
    "from numpy import dot\n",
    "from numpy.linalg import norm\n",
    "from Shared_Functions import *\n",
    "from Bio import SeqIO\n",
    "from Bio.Seq import Seq\n",
    "from Bio.SeqRecord import SeqRecord\n",
    "import matplotlib.pyplot as plt\n",
    "from scipy.special import softmax\n",
    "import torch\n",
    "import esm"
   ]
  },
  {
   "cell_type": "markdown",
   "id": "cd0299b9-a298-4872-a8f8-8f7129dbc748",
   "metadata": {
    "id": "cd0299b9-a298-4872-a8f8-8f7129dbc748",
    "tags": []
   },
   "source": [
    "# Load Model into GPU"
   ]
  },
  {
   "cell_type": "code",
   "execution_count": 25,
   "id": "60afd8d4-1ec3-4db6-aa06-fb15b86c0bb7",
   "metadata": {
    "colab": {
     "background_save": true,
     "base_uri": "https://localhost:8080/"
    },
    "id": "60afd8d4-1ec3-4db6-aa06-fb15b86c0bb7",
    "outputId": "83d0799e-dab7-42cb-fd81-3ec124be724c"
   },
   "outputs": [],
   "source": [
    "model, alphabet = esm.pretrained.load_model_and_alphabet('esm2_t36_3B_UR50D')\n",
    "model.eval()\n",
    "batch_converter = alphabet.get_batch_converter()\n",
    "device = torch.device(\"cuda\")\n",
    "if torch.cuda.is_available():\n",
    "    model =  model.to(device)\n",
    "    print(\"Transferred model to GPU\")"
   ]
  },
  {
   "cell_type": "markdown",
   "id": "9b3207e2-bfa4-4928-aed5-4097adb50597",
   "metadata": {
    "id": "9b3207e2-bfa4-4928-aed5-4097adb50597",
    "tags": []
   },
   "source": [
    "# Download Reference Sequence and Embed"
   ]
  },
  {
   "cell_type": "code",
   "execution_count": 26,
   "id": "cb44b29a-b70c-461a-a7f6-53f229ad5e7d",
   "metadata": {
    "colab": {
     "background_save": true
    },
    "id": "cb44b29a-b70c-461a-a7f6-53f229ad5e7d"
   },
   "outputs": [],
   "source": [
    "from Bio import Entrez\n",
    "from Bio import SeqIO\n",
    "\n",
    "Entrez.email = \"sample@example.org\"\n",
    "\n",
    "handle = Entrez.efetch(db=\"nucleotide\",\n",
    "                       id=\"NC_045512.2\",\n",
    "                       rettype=\"gb\",\n",
    "                       retmode=\"gb\")\n",
    "whole_sequence = SeqIO.read(handle, \"genbank\")"
   ]
  },
  {
   "cell_type": "code",
   "execution_count": 27,
   "id": "350c0992-ea0c-459f-95a0-18eeebd5729b",
   "metadata": {
    "colab": {
     "background_save": true
    },
    "id": "350c0992-ea0c-459f-95a0-18eeebd5729b"
   },
   "outputs": [],
   "source": [
    "model_layers = 36"
   ]
  },
  {
   "cell_type": "markdown",
   "id": "0bdf72bc-4c20-4eda-aa61-f077ef57f9ee",
   "metadata": {
    "tags": []
   },
   "source": [
    "# Embed Initial Sequences"
   ]
  },
  {
   "cell_type": "code",
   "execution_count": 28,
   "id": "0337744d-4974-42fa-9944-0d829335bb4a",
   "metadata": {},
   "outputs": [],
   "source": [
    "ref_spike_seq = 'MFVFLVLLPLVSSQCVNLTTRTQLPPAYTNSFTRGVYYPDKVFRSSVLHSTQDLFLPFFSNVTWFHAIHVSGTNGTKRFDNPVLPFNDGVYFASTEKSNIIRGWIFGTTLDSKTQSLLIVNNATNVVIKVCEFQFCNDPFLGVYYHKNNKSWMESEFRVYSSANNCTFEYVSQPFLMDLEGKQGNFKNLREFVFKNIDGYFKIYSKHTPINLVRDLPQGFSALEPLVDLPIGINITRFQTLLALHRSYLTPGDSSSGWTAGAAAYYVGYLQPRTFLLKYNENGTITDAVDCALDPLSETKCTLKSFTVEKGIYQTSNFRVQPTESIVRFPNITNLCPFGEVFNATRFASVYAWNRKRISNCVADYSVLYNSASFSTFKCYGVSPTKLNDLCFTNVYADSFVIRGDEVRQIAPGQTGKIADYNYKLPDDFTGCVIAWNSNNLDSKVGGNYNYLYRLFRKSNLKPFERDISTEIYQAGSTPCNGVEGFNCYFPLQSYGFQPTNGVGYQPYRVVVLSFELLHAPATVCGPKKSTNLVKNKCVNFNFNGLTGTGVLTESNKKFLPFQQFGRDIADTTDAVRDPQTLEILDITPCSFGGVSVITPGTNTSNQVAVLYQDVNCTEVPVAIHADQLTPTWRVYSTGSNVFQTRAGCLIGAEHVNNSYECDIPIGAGICASYQTQTNSPRRARSVASQSIIAYTMSLGAENSVAYSNNSIAIPTNFTISVTTEILPVSMTKTSVDCTMYICGDSTECSNLLLQYGSFCTQLNRALTGIAVEQDKNTQEVFAQVKQIYKTPPIKDFGGFNFSQILPDPSKPSKRSFIEDLLFNKVTLADAGFIKQYGDCLGDIAARDLICAQKFNGLTVLPPLLTDEMIAQYTSALLAGTITSGWTFGAGAALQIPFAMQMAYRFNGIGVTQNVLYENQKLIANQFNSAIGKIQDSLSSTASALGKLQDVVNQNAQALNTLVKQLSSNFGAISSVLNDILSRLDKVEAEVQIDRLITGRLQSLQTYVTQQLIRAAEIRASANLAATKMSECVLGQSKRVDFCGKGYHLMSFPQSAPHGVVFLHVTYVPAQEKNFTTAPAICHDGKAHFPREGVFVSNGTHWFVTQRNFYEPQIITTDNTFVSGNCDVVIGIVNNTVYDPLQPELDSFKEELDKYFKNHTSPDVDLGDISGINASVVNIQKEIDRLNEVAKNLNESLIDLQELGKYEQYIKWPWYIWLGFIAGLIAIVMVTIMLCCMTSCCSCLKGCCSCGSCCKFDEDDSEPVLKGVKLHYT'"
   ]
  },
  {
   "cell_type": "code",
   "execution_count": 43,
   "id": "5fb15053-7601-4cb1-8190-a9a7c4eb810d",
   "metadata": {},
   "outputs": [
    {
     "name": "stdout",
     "output_type": "stream",
     "text": [
      "Semantic score:  1.7094954376443638\n",
      "Sequence Grammaticality:  -431.3873\n",
      "Relative Sequence Grammaticality:  -1.273407\n",
      "Semantic score:  3.1920375193319614\n",
      "Sequence Grammaticality:  -436.28207\n",
      "Relative Sequence Grammaticality:  -6.1681824\n",
      "Semantic score:  3.358635534955283\n",
      "Sequence Grammaticality:  -437.98254\n",
      "Relative Sequence Grammaticality:  -7.8686523\n"
     ]
    }
   ],
   "source": [
    "haplotype_sequence_embeddings = process_fasta('Sequences/earliest_haplo_spike_UK.fa','S:0',ref_spike_seq,model,model_layers,batch_converter,device,alphabet,insertions=True)"
   ]
  },
  {
   "cell_type": "code",
   "execution_count": 44,
   "id": "5e65f655-187e-4afe-beeb-3a54bd215fdf",
   "metadata": {},
   "outputs": [],
   "source": [
    "compressed_pickle('haplotype_pandemic_spikes',haplotype_sequence_embeddings)"
   ]
  },
  {
   "cell_type": "code",
   "execution_count": 45,
   "id": "461be7f9-be3f-44d1-8af9-47ebacba3e0e",
   "metadata": {},
   "outputs": [],
   "source": [
    "columns = ['label', 'semantic_score', 'sequence_grammaticality', 'relative_sequence_grammaticality', ]\n",
    "indel_table = []\n",
    "for key in haplotype_sequence_embeddings['S:0'].keys():\n",
    "    if key != 'Reference':\n",
    "        row = pd.DataFrame([haplotype_sequence_embeddings['S:0'][key].get(c) for c in columns]).T\n",
    "        row.columns = columns\n",
    "        indel_table.append(row)\n",
    "indel_table = pd.concat(indel_table)"
   ]
  },
  {
   "cell_type": "code",
   "execution_count": 46,
   "id": "bedb03e0-ae2a-4fb4-a8dd-354dab517585",
   "metadata": {},
   "outputs": [],
   "source": [
    "indel_table.columns = ['label','indel_semantic_score','indel_sequence_grammaticality','indel_relative_sequence_grammaticality']"
   ]
  },
  {
   "cell_type": "code",
   "execution_count": 49,
   "id": "e9a71321-8c74-4d6f-9372-a4a2ac79d33d",
   "metadata": {},
   "outputs": [
    {
     "data": {
      "text/html": [
       "<div>\n",
       "<style scoped>\n",
       "    .dataframe tbody tr th:only-of-type {\n",
       "        vertical-align: middle;\n",
       "    }\n",
       "\n",
       "    .dataframe tbody tr th {\n",
       "        vertical-align: top;\n",
       "    }\n",
       "\n",
       "    .dataframe thead th {\n",
       "        text-align: right;\n",
       "    }\n",
       "</style>\n",
       "<table border=\"1\" class=\"dataframe\">\n",
       "  <thead>\n",
       "    <tr style=\"text-align: right;\">\n",
       "      <th></th>\n",
       "      <th>SequenceID</th>\n",
       "      <th>ClusterName</th>\n",
       "      <th>ClusterSize</th>\n",
       "      <th>Clade</th>\n",
       "      <th>Pango lineage</th>\n",
       "      <th>Variant</th>\n",
       "      <th>Collection date</th>\n",
       "      <th>Location</th>\n",
       "    </tr>\n",
       "  </thead>\n",
       "  <tbody>\n",
       "    <tr>\n",
       "      <th>0</th>\n",
       "      <td>EPI_ISL_10013279</td>\n",
       "      <td>Cluster 0</td>\n",
       "      <td>50</td>\n",
       "      <td>GRA</td>\n",
       "      <td>BA.1.17.2</td>\n",
       "      <td>Former VOC Omicron GRA (B.1.1.529+BA.*) first ...</td>\n",
       "      <td>NaN</td>\n",
       "      <td>Europe / United Kingdom / England</td>\n",
       "    </tr>\n",
       "    <tr>\n",
       "      <th>1</th>\n",
       "      <td>EPI_ISL_1051786</td>\n",
       "      <td>Cluster 1</td>\n",
       "      <td>12</td>\n",
       "      <td>GR</td>\n",
       "      <td>B.1.1.7</td>\n",
       "      <td>Former VOC Alpha GRY (B.1.1.7+Q.*) first detec...</td>\n",
       "      <td>2021-01-11</td>\n",
       "      <td>Europe / United Kingdom / England</td>\n",
       "    </tr>\n",
       "    <tr>\n",
       "      <th>2</th>\n",
       "      <td>EPI_ISL_11943412</td>\n",
       "      <td>Cluster 10</td>\n",
       "      <td>1</td>\n",
       "      <td>GRA</td>\n",
       "      <td>BA.1.1.12</td>\n",
       "      <td>Former VOC Omicron GRA (B.1.1.529+BA.*) first ...</td>\n",
       "      <td>2022-01-16</td>\n",
       "      <td>Europe / United Kingdom / England</td>\n",
       "    </tr>\n",
       "    <tr>\n",
       "      <th>3</th>\n",
       "      <td>EPI_ISL_1104239</td>\n",
       "      <td>Cluster 100</td>\n",
       "      <td>32</td>\n",
       "      <td>GV</td>\n",
       "      <td>W.4</td>\n",
       "      <td>NaN</td>\n",
       "      <td>2021-01-02</td>\n",
       "      <td>Europe / United Kingdom / Scotland</td>\n",
       "    </tr>\n",
       "    <tr>\n",
       "      <th>4</th>\n",
       "      <td>EPI_ISL_551515</td>\n",
       "      <td>Cluster 1000</td>\n",
       "      <td>1</td>\n",
       "      <td>GR</td>\n",
       "      <td>B.1.1</td>\n",
       "      <td>NaN</td>\n",
       "      <td>2020-06-24</td>\n",
       "      <td>Europe / United Kingdom / England</td>\n",
       "    </tr>\n",
       "    <tr>\n",
       "      <th>...</th>\n",
       "      <td>...</td>\n",
       "      <td>...</td>\n",
       "      <td>...</td>\n",
       "      <td>...</td>\n",
       "      <td>...</td>\n",
       "      <td>...</td>\n",
       "      <td>...</td>\n",
       "      <td>...</td>\n",
       "    </tr>\n",
       "    <tr>\n",
       "      <th>28273</th>\n",
       "      <td>EPI_ISL_6348159</td>\n",
       "      <td>Cluster 9995</td>\n",
       "      <td>2</td>\n",
       "      <td>GK</td>\n",
       "      <td>AY.6</td>\n",
       "      <td>Former VOC Delta GK (B.1.617.2+AY.*) first det...</td>\n",
       "      <td>2021-11-10</td>\n",
       "      <td>Europe / United Kingdom / England</td>\n",
       "    </tr>\n",
       "    <tr>\n",
       "      <th>28274</th>\n",
       "      <td>EPI_ISL_6366094</td>\n",
       "      <td>Cluster 9996</td>\n",
       "      <td>2</td>\n",
       "      <td>GK</td>\n",
       "      <td>AY.4</td>\n",
       "      <td>Former VOC Delta GK (B.1.617.2+AY.*) first det...</td>\n",
       "      <td>2021-11-06</td>\n",
       "      <td>Europe / United Kingdom / England</td>\n",
       "    </tr>\n",
       "    <tr>\n",
       "      <th>28275</th>\n",
       "      <td>EPI_ISL_6365848</td>\n",
       "      <td>Cluster 9997</td>\n",
       "      <td>2</td>\n",
       "      <td>GK</td>\n",
       "      <td>AY.4</td>\n",
       "      <td>Former VOC Delta GK (B.1.617.2+AY.*) first det...</td>\n",
       "      <td>2021-11-06</td>\n",
       "      <td>Europe / United Kingdom / Wales</td>\n",
       "    </tr>\n",
       "    <tr>\n",
       "      <th>28276</th>\n",
       "      <td>EPI_ISL_6347659</td>\n",
       "      <td>Cluster 9998</td>\n",
       "      <td>1</td>\n",
       "      <td>GK</td>\n",
       "      <td>AY.4</td>\n",
       "      <td>Former VOC Delta GK (B.1.617.2+AY.*) first det...</td>\n",
       "      <td>2021-11-10</td>\n",
       "      <td>Europe / United Kingdom / England</td>\n",
       "    </tr>\n",
       "    <tr>\n",
       "      <th>28277</th>\n",
       "      <td>EPI_ISL_6345381</td>\n",
       "      <td>Cluster 9999</td>\n",
       "      <td>14</td>\n",
       "      <td>GK</td>\n",
       "      <td>AY.98</td>\n",
       "      <td>Former VOC Delta GK (B.1.617.2+AY.*) first det...</td>\n",
       "      <td>2021-11-09</td>\n",
       "      <td>Europe / United Kingdom / England</td>\n",
       "    </tr>\n",
       "  </tbody>\n",
       "</table>\n",
       "<p>28278 rows × 8 columns</p>\n",
       "</div>"
      ],
      "text/plain": [
       "             SequenceID   ClusterName  ClusterSize Clade Pango lineage  \\\n",
       "0      EPI_ISL_10013279     Cluster 0           50   GRA     BA.1.17.2   \n",
       "1       EPI_ISL_1051786     Cluster 1           12    GR       B.1.1.7   \n",
       "2      EPI_ISL_11943412    Cluster 10            1   GRA     BA.1.1.12   \n",
       "3       EPI_ISL_1104239   Cluster 100           32    GV           W.4   \n",
       "4        EPI_ISL_551515  Cluster 1000            1    GR         B.1.1   \n",
       "...                 ...           ...          ...   ...           ...   \n",
       "28273   EPI_ISL_6348159  Cluster 9995            2    GK          AY.6   \n",
       "28274   EPI_ISL_6366094  Cluster 9996            2    GK          AY.4   \n",
       "28275   EPI_ISL_6365848  Cluster 9997            2    GK          AY.4   \n",
       "28276   EPI_ISL_6347659  Cluster 9998            1    GK          AY.4   \n",
       "28277   EPI_ISL_6345381  Cluster 9999           14    GK         AY.98   \n",
       "\n",
       "                                                 Variant Collection date  \\\n",
       "0      Former VOC Omicron GRA (B.1.1.529+BA.*) first ...             NaN   \n",
       "1      Former VOC Alpha GRY (B.1.1.7+Q.*) first detec...      2021-01-11   \n",
       "2      Former VOC Omicron GRA (B.1.1.529+BA.*) first ...      2022-01-16   \n",
       "3                                                    NaN      2021-01-02   \n",
       "4                                                    NaN      2020-06-24   \n",
       "...                                                  ...             ...   \n",
       "28273  Former VOC Delta GK (B.1.617.2+AY.*) first det...      2021-11-10   \n",
       "28274  Former VOC Delta GK (B.1.617.2+AY.*) first det...      2021-11-06   \n",
       "28275  Former VOC Delta GK (B.1.617.2+AY.*) first det...      2021-11-06   \n",
       "28276  Former VOC Delta GK (B.1.617.2+AY.*) first det...      2021-11-10   \n",
       "28277  Former VOC Delta GK (B.1.617.2+AY.*) first det...      2021-11-09   \n",
       "\n",
       "                                 Location  \n",
       "0       Europe / United Kingdom / England  \n",
       "1       Europe / United Kingdom / England  \n",
       "2       Europe / United Kingdom / England  \n",
       "3      Europe / United Kingdom / Scotland  \n",
       "4       Europe / United Kingdom / England  \n",
       "...                                   ...  \n",
       "28273   Europe / United Kingdom / England  \n",
       "28274   Europe / United Kingdom / England  \n",
       "28275     Europe / United Kingdom / Wales  \n",
       "28276   Europe / United Kingdom / England  \n",
       "28277   Europe / United Kingdom / England  \n",
       "\n",
       "[28278 rows x 8 columns]"
      ]
     },
     "execution_count": 49,
     "metadata": {},
     "output_type": "execute_result"
    }
   ],
   "source": [
    "metadata = pd.read_csv('Metadata/earliest_haplo_spike_UK.tsv',sep='\\t')\n",
    "metadata"
   ]
  },
  {
   "cell_type": "code",
   "execution_count": 50,
   "id": "96ff8b1f-a096-47aa-98fe-e3cc6ba91328",
   "metadata": {},
   "outputs": [],
   "source": [
    "initial_table = pd.merge(metadata,indel_table,how='left',left_on='SequenceID',right_on='label')"
   ]
  },
  {
   "cell_type": "code",
   "execution_count": 51,
   "id": "6f5506fc-da78-422e-a53a-f56a98a62433",
   "metadata": {},
   "outputs": [],
   "source": [
    "initial_table = initial_table.sort_values('indel_semantic_score')\n",
    "initial_table['indel_semantic_rank'] = initial_table.reset_index().index.astype(int) + 1\n",
    "initial_table = initial_table.sort_values('indel_sequence_grammaticality')\n",
    "initial_table['indel_sequence_grammatical_rank'] =initial_table.reset_index().index.astype(int) + 1\n",
    "initial_table['indel_sequence_acquisition_priority'] = initial_table['indel_semantic_rank'] + initial_table['indel_sequence_grammatical_rank']"
   ]
  },
  {
   "cell_type": "code",
   "execution_count": 53,
   "id": "71ddb941-0e1a-4c2c-9fd8-1ef84932b391",
   "metadata": {},
   "outputs": [],
   "source": [
    "initial_table.columns = ['label', 'cluster_name', 'cluster_size', 'clade', 'lineage',\n",
    "       'Voc', 'sample_date', 'location', 'label_x',\n",
    "       'indel_semantic_score', 'indel_sequence_grammaticality',\n",
    "       'indel_relative_sequence_grammaticality', 'indel_semantic_rank',\n",
    "       'indel_sequence_grammatical_rank',\n",
    "       'indel_sequence_acquisition_priority']"
   ]
  },
  {
   "cell_type": "code",
   "execution_count": 54,
   "id": "e2e6fbc6-1ad2-4b0b-a5b8-bc3104ab207d",
   "metadata": {},
   "outputs": [],
   "source": [
    "initial_table = initial_table.drop('label_x',axis=1)"
   ]
  },
  {
   "cell_type": "code",
   "execution_count": 56,
   "id": "a537f9b1-ad0e-4b32-9f8e-1103cd1e9a3c",
   "metadata": {},
   "outputs": [],
   "source": [
    "initial_table.to_csv('Scores/haplotype_scores.csv',index=False)"
   ]
  },
  {
   "cell_type": "markdown",
   "id": "7a6bd7e6-c0cc-4f95-abb3-68dc13c26e9a",
   "metadata": {
    "tags": []
   },
   "source": [
    "# Moving Averages"
   ]
  },
  {
   "cell_type": "code",
   "execution_count": 57,
   "id": "c45c18a1-c090-4a9a-a1cc-28e8fe320c96",
   "metadata": {},
   "outputs": [],
   "source": [
    "initial_table = pd.read_csv('Scores/haplotype_scores.csv')"
   ]
  },
  {
   "cell_type": "code",
   "execution_count": 58,
   "id": "8973c55c-6e2e-488d-8cea-9e4577f580a1",
   "metadata": {},
   "outputs": [],
   "source": [
    "#Load haplotype embeddings \n",
    "haplotype_sequence_embeddings = decompress_pickle('haplotype_pandemic_spikes.pbz2')"
   ]
  },
  {
   "cell_type": "code",
   "execution_count": 59,
   "id": "fc54e629-5ab4-42f2-a8a5-7d8665017606",
   "metadata": {},
   "outputs": [
    {
     "data": {
      "text/html": [
       "<div>\n",
       "<style scoped>\n",
       "    .dataframe tbody tr th:only-of-type {\n",
       "        vertical-align: middle;\n",
       "    }\n",
       "\n",
       "    .dataframe tbody tr th {\n",
       "        vertical-align: top;\n",
       "    }\n",
       "\n",
       "    .dataframe thead th {\n",
       "        text-align: right;\n",
       "    }\n",
       "</style>\n",
       "<table border=\"1\" class=\"dataframe\">\n",
       "  <thead>\n",
       "    <tr style=\"text-align: right;\">\n",
       "      <th></th>\n",
       "      <th>label</th>\n",
       "      <th>embedding</th>\n",
       "      <th>sample_date</th>\n",
       "    </tr>\n",
       "  </thead>\n",
       "  <tbody>\n",
       "    <tr>\n",
       "      <th>0</th>\n",
       "      <td>EPI_ISL_1180015</td>\n",
       "      <td>[-0.022716747596859932, -0.019655432552099228,...</td>\n",
       "      <td>2021-01-28</td>\n",
       "    </tr>\n",
       "    <tr>\n",
       "      <th>1</th>\n",
       "      <td>EPI_ISL_1180033</td>\n",
       "      <td>[-0.022242441773414612, -0.018704110756516457,...</td>\n",
       "      <td>2021-01-28</td>\n",
       "    </tr>\n",
       "    <tr>\n",
       "      <th>2</th>\n",
       "      <td>EPI_ISL_1179711</td>\n",
       "      <td>[-0.02240000106394291, -0.018780121579766273, ...</td>\n",
       "      <td>2021-02-10</td>\n",
       "    </tr>\n",
       "  </tbody>\n",
       "</table>\n",
       "</div>"
      ],
      "text/plain": [
       "             label                                          embedding  \\\n",
       "0  EPI_ISL_1180015  [-0.022716747596859932, -0.019655432552099228,...   \n",
       "1  EPI_ISL_1180033  [-0.022242441773414612, -0.018704110756516457,...   \n",
       "2  EPI_ISL_1179711  [-0.02240000106394291, -0.018780121579766273, ...   \n",
       "\n",
       "  sample_date  \n",
       "0  2021-01-28  \n",
       "1  2021-01-28  \n",
       "2  2021-02-10  "
      ]
     },
     "execution_count": 59,
     "metadata": {},
     "output_type": "execute_result"
    }
   ],
   "source": [
    "#For Indel pickle\n",
    "grouped_embeddings = []\n",
    "for sequence_id in haplotype_sequence_embeddings['S:0'].keys():\n",
    "    if sequence_id != 'Reference':\n",
    "        embedding = haplotype_sequence_embeddings['S:0'][sequence_id]\n",
    "        if sequence_id != 'Reference':\n",
    "            row = {\"label\":sequence_id,\n",
    "                  'embedding':embedding['Mean_Embedding']}\n",
    "            grouped_embeddings.append(pd.Series(row))\n",
    "        \n",
    "grouped_embeddings = pd.concat(grouped_embeddings,axis=1).T\n",
    "grouped_embeddings = pd.merge(grouped_embeddings,initial_table[['label','sample_date']],how='left',left_on='label',right_on='label')\n",
    "grouped_embeddings.sample_date = grouped_embeddings.sample_date.astype('datetime64[ns]')\n",
    "grouped_embeddings = grouped_embeddings.sort_values('sample_date')\n",
    "grouped_embeddings"
   ]
  },
  {
   "cell_type": "markdown",
   "id": "4a2c50ef-1041-4605-a659-fcb51f7f645f",
   "metadata": {
    "tags": []
   },
   "source": [
    "# Load sequences and ungap them"
   ]
  },
  {
   "cell_type": "code",
   "execution_count": 60,
   "id": "79da0d4b-5bd9-4b7b-bb36-c4c4b2433beb",
   "metadata": {},
   "outputs": [],
   "source": [
    "initial_sequences_ungapped =[]  \n",
    "for fasta in SeqIO.parse('Sequences/earliest_haplo_spike_UK.fa', \"fasta\"):\n",
    "    sequence_row = [fasta.id,str(fasta.seq)]\n",
    "    sequence_row_logits = torch.FloatTensor(haplotype_sequence_embeddings['S:0'][fasta.id]['Logits'])\n",
    "    sequence_logits = []\n",
    "    for pos in range(len(sequence_row[1])):\n",
    "        word = sequence_row[1][pos]\n",
    "        word_idx = alphabet.get_idx(word)\n",
    "        prob = sequence_row_logits[pos + 1, word_idx]\n",
    "        sequence_logits.append(prob.item())\n",
    "    sequence_row.append(sequence_logits)\n",
    "    sequence_row = pd.DataFrame(sequence_row).T\n",
    "    initial_sequences_ungapped.append(sequence_row)\n",
    "initial_sequences_ungapped =pd.concat(initial_sequences_ungapped)"
   ]
  },
  {
   "cell_type": "code",
   "execution_count": 61,
   "id": "87d9d8f1-b619-46c5-a052-f6765a51f06c",
   "metadata": {},
   "outputs": [
    {
     "data": {
      "text/html": [
       "<div>\n",
       "<style scoped>\n",
       "    .dataframe tbody tr th:only-of-type {\n",
       "        vertical-align: middle;\n",
       "    }\n",
       "\n",
       "    .dataframe tbody tr th {\n",
       "        vertical-align: top;\n",
       "    }\n",
       "\n",
       "    .dataframe thead th {\n",
       "        text-align: right;\n",
       "    }\n",
       "</style>\n",
       "<table border=\"1\" class=\"dataframe\">\n",
       "  <thead>\n",
       "    <tr style=\"text-align: right;\">\n",
       "      <th></th>\n",
       "      <th>label</th>\n",
       "      <th>sequence</th>\n",
       "      <th>sequence_logits</th>\n",
       "    </tr>\n",
       "  </thead>\n",
       "  <tbody>\n",
       "    <tr>\n",
       "      <th>0</th>\n",
       "      <td>EPI_ISL_1180015</td>\n",
       "      <td>MFVFLVLLPLVSSQCVNLTTRTQLPPAYTNSFTRGVYYPDKVFRSS...</td>\n",
       "      <td>[-0.0005610798834823072, -0.14159958064556122,...</td>\n",
       "    </tr>\n",
       "    <tr>\n",
       "      <th>0</th>\n",
       "      <td>EPI_ISL_1180033</td>\n",
       "      <td>MFVFLVLLPLVSSQCVNLTTRTQLPPAYTNSFTRGVYYPDKVFRSS...</td>\n",
       "      <td>[-0.0004577780782710761, -0.14605365693569183,...</td>\n",
       "    </tr>\n",
       "    <tr>\n",
       "      <th>0</th>\n",
       "      <td>EPI_ISL_1179711</td>\n",
       "      <td>MFVFLVLLPLVSSQCVNLTTRTQLPPAYTNSFTRGVYYPDKVFRSS...</td>\n",
       "      <td>[-0.0004472924047149718, -0.14671146869659424,...</td>\n",
       "    </tr>\n",
       "  </tbody>\n",
       "</table>\n",
       "</div>"
      ],
      "text/plain": [
       "             label                                           sequence  \\\n",
       "0  EPI_ISL_1180015  MFVFLVLLPLVSSQCVNLTTRTQLPPAYTNSFTRGVYYPDKVFRSS...   \n",
       "0  EPI_ISL_1180033  MFVFLVLLPLVSSQCVNLTTRTQLPPAYTNSFTRGVYYPDKVFRSS...   \n",
       "0  EPI_ISL_1179711  MFVFLVLLPLVSSQCVNLTTRTQLPPAYTNSFTRGVYYPDKVFRSS...   \n",
       "\n",
       "                                     sequence_logits  \n",
       "0  [-0.0005610798834823072, -0.14159958064556122,...  \n",
       "0  [-0.0004577780782710761, -0.14605365693569183,...  \n",
       "0  [-0.0004472924047149718, -0.14671146869659424,...  "
      ]
     },
     "execution_count": 61,
     "metadata": {},
     "output_type": "execute_result"
    }
   ],
   "source": [
    "initial_sequences_ungapped.columns = ['label','sequence','sequence_logits']\n",
    "initial_sequences_ungapped"
   ]
  },
  {
   "cell_type": "code",
   "execution_count": 62,
   "id": "0c46b449-a111-492a-8ae0-946bfe57c254",
   "metadata": {},
   "outputs": [],
   "source": [
    "initial_sequences_ungapped = pd.merge(initial_sequences_ungapped,grouped_embeddings,how='left',left_on='label',right_on='label')"
   ]
  },
  {
   "cell_type": "markdown",
   "id": "3ee8f58a-3a17-4606-9827-12192204b27c",
   "metadata": {},
   "source": [
    "# Filter sequences that are too small (Probably not real)"
   ]
  },
  {
   "cell_type": "code",
   "execution_count": 63,
   "id": "3e39fe39-a654-42dd-a3b0-e2410b3907fc",
   "metadata": {},
   "outputs": [],
   "source": [
    "initial_sequences_ungapped['sequence_length'] = [ len(s.replace('*','')) for s in initial_sequences_ungapped.sequence]"
   ]
  },
  {
   "cell_type": "code",
   "execution_count": 65,
   "id": "458da556-68c3-47b6-bd93-11f7294f567c",
   "metadata": {},
   "outputs": [
    {
     "data": {
      "text/html": [
       "<div>\n",
       "<style scoped>\n",
       "    .dataframe tbody tr th:only-of-type {\n",
       "        vertical-align: middle;\n",
       "    }\n",
       "\n",
       "    .dataframe tbody tr th {\n",
       "        vertical-align: top;\n",
       "    }\n",
       "\n",
       "    .dataframe thead th {\n",
       "        text-align: right;\n",
       "    }\n",
       "</style>\n",
       "<table border=\"1\" class=\"dataframe\">\n",
       "  <thead>\n",
       "    <tr style=\"text-align: right;\">\n",
       "      <th></th>\n",
       "      <th>SequenceID</th>\n",
       "      <th>ClusterName</th>\n",
       "      <th>ClusterSize</th>\n",
       "      <th>Clade</th>\n",
       "      <th>Pango lineage</th>\n",
       "      <th>Variant</th>\n",
       "      <th>Collection date</th>\n",
       "      <th>Location</th>\n",
       "    </tr>\n",
       "  </thead>\n",
       "  <tbody>\n",
       "    <tr>\n",
       "      <th>0</th>\n",
       "      <td>EPI_ISL_10013279</td>\n",
       "      <td>Cluster 0</td>\n",
       "      <td>50</td>\n",
       "      <td>GRA</td>\n",
       "      <td>BA.1.17.2</td>\n",
       "      <td>Former VOC Omicron GRA (B.1.1.529+BA.*) first ...</td>\n",
       "      <td>NaN</td>\n",
       "      <td>Europe / United Kingdom / England</td>\n",
       "    </tr>\n",
       "    <tr>\n",
       "      <th>1</th>\n",
       "      <td>EPI_ISL_1051786</td>\n",
       "      <td>Cluster 1</td>\n",
       "      <td>12</td>\n",
       "      <td>GR</td>\n",
       "      <td>B.1.1.7</td>\n",
       "      <td>Former VOC Alpha GRY (B.1.1.7+Q.*) first detec...</td>\n",
       "      <td>2021-01-11</td>\n",
       "      <td>Europe / United Kingdom / England</td>\n",
       "    </tr>\n",
       "    <tr>\n",
       "      <th>2</th>\n",
       "      <td>EPI_ISL_11943412</td>\n",
       "      <td>Cluster 10</td>\n",
       "      <td>1</td>\n",
       "      <td>GRA</td>\n",
       "      <td>BA.1.1.12</td>\n",
       "      <td>Former VOC Omicron GRA (B.1.1.529+BA.*) first ...</td>\n",
       "      <td>2022-01-16</td>\n",
       "      <td>Europe / United Kingdom / England</td>\n",
       "    </tr>\n",
       "    <tr>\n",
       "      <th>3</th>\n",
       "      <td>EPI_ISL_1104239</td>\n",
       "      <td>Cluster 100</td>\n",
       "      <td>32</td>\n",
       "      <td>GV</td>\n",
       "      <td>W.4</td>\n",
       "      <td>NaN</td>\n",
       "      <td>2021-01-02</td>\n",
       "      <td>Europe / United Kingdom / Scotland</td>\n",
       "    </tr>\n",
       "    <tr>\n",
       "      <th>4</th>\n",
       "      <td>EPI_ISL_551515</td>\n",
       "      <td>Cluster 1000</td>\n",
       "      <td>1</td>\n",
       "      <td>GR</td>\n",
       "      <td>B.1.1</td>\n",
       "      <td>NaN</td>\n",
       "      <td>2020-06-24</td>\n",
       "      <td>Europe / United Kingdom / England</td>\n",
       "    </tr>\n",
       "    <tr>\n",
       "      <th>...</th>\n",
       "      <td>...</td>\n",
       "      <td>...</td>\n",
       "      <td>...</td>\n",
       "      <td>...</td>\n",
       "      <td>...</td>\n",
       "      <td>...</td>\n",
       "      <td>...</td>\n",
       "      <td>...</td>\n",
       "    </tr>\n",
       "    <tr>\n",
       "      <th>28273</th>\n",
       "      <td>EPI_ISL_6348159</td>\n",
       "      <td>Cluster 9995</td>\n",
       "      <td>2</td>\n",
       "      <td>GK</td>\n",
       "      <td>AY.6</td>\n",
       "      <td>Former VOC Delta GK (B.1.617.2+AY.*) first det...</td>\n",
       "      <td>2021-11-10</td>\n",
       "      <td>Europe / United Kingdom / England</td>\n",
       "    </tr>\n",
       "    <tr>\n",
       "      <th>28274</th>\n",
       "      <td>EPI_ISL_6366094</td>\n",
       "      <td>Cluster 9996</td>\n",
       "      <td>2</td>\n",
       "      <td>GK</td>\n",
       "      <td>AY.4</td>\n",
       "      <td>Former VOC Delta GK (B.1.617.2+AY.*) first det...</td>\n",
       "      <td>2021-11-06</td>\n",
       "      <td>Europe / United Kingdom / England</td>\n",
       "    </tr>\n",
       "    <tr>\n",
       "      <th>28275</th>\n",
       "      <td>EPI_ISL_6365848</td>\n",
       "      <td>Cluster 9997</td>\n",
       "      <td>2</td>\n",
       "      <td>GK</td>\n",
       "      <td>AY.4</td>\n",
       "      <td>Former VOC Delta GK (B.1.617.2+AY.*) first det...</td>\n",
       "      <td>2021-11-06</td>\n",
       "      <td>Europe / United Kingdom / Wales</td>\n",
       "    </tr>\n",
       "    <tr>\n",
       "      <th>28276</th>\n",
       "      <td>EPI_ISL_6347659</td>\n",
       "      <td>Cluster 9998</td>\n",
       "      <td>1</td>\n",
       "      <td>GK</td>\n",
       "      <td>AY.4</td>\n",
       "      <td>Former VOC Delta GK (B.1.617.2+AY.*) first det...</td>\n",
       "      <td>2021-11-10</td>\n",
       "      <td>Europe / United Kingdom / England</td>\n",
       "    </tr>\n",
       "    <tr>\n",
       "      <th>28277</th>\n",
       "      <td>EPI_ISL_6345381</td>\n",
       "      <td>Cluster 9999</td>\n",
       "      <td>14</td>\n",
       "      <td>GK</td>\n",
       "      <td>AY.98</td>\n",
       "      <td>Former VOC Delta GK (B.1.617.2+AY.*) first det...</td>\n",
       "      <td>2021-11-09</td>\n",
       "      <td>Europe / United Kingdom / England</td>\n",
       "    </tr>\n",
       "  </tbody>\n",
       "</table>\n",
       "<p>28278 rows × 8 columns</p>\n",
       "</div>"
      ],
      "text/plain": [
       "             SequenceID   ClusterName  ClusterSize Clade Pango lineage  \\\n",
       "0      EPI_ISL_10013279     Cluster 0           50   GRA     BA.1.17.2   \n",
       "1       EPI_ISL_1051786     Cluster 1           12    GR       B.1.1.7   \n",
       "2      EPI_ISL_11943412    Cluster 10            1   GRA     BA.1.1.12   \n",
       "3       EPI_ISL_1104239   Cluster 100           32    GV           W.4   \n",
       "4        EPI_ISL_551515  Cluster 1000            1    GR         B.1.1   \n",
       "...                 ...           ...          ...   ...           ...   \n",
       "28273   EPI_ISL_6348159  Cluster 9995            2    GK          AY.6   \n",
       "28274   EPI_ISL_6366094  Cluster 9996            2    GK          AY.4   \n",
       "28275   EPI_ISL_6365848  Cluster 9997            2    GK          AY.4   \n",
       "28276   EPI_ISL_6347659  Cluster 9998            1    GK          AY.4   \n",
       "28277   EPI_ISL_6345381  Cluster 9999           14    GK         AY.98   \n",
       "\n",
       "                                                 Variant Collection date  \\\n",
       "0      Former VOC Omicron GRA (B.1.1.529+BA.*) first ...             NaN   \n",
       "1      Former VOC Alpha GRY (B.1.1.7+Q.*) first detec...      2021-01-11   \n",
       "2      Former VOC Omicron GRA (B.1.1.529+BA.*) first ...      2022-01-16   \n",
       "3                                                    NaN      2021-01-02   \n",
       "4                                                    NaN      2020-06-24   \n",
       "...                                                  ...             ...   \n",
       "28273  Former VOC Delta GK (B.1.617.2+AY.*) first det...      2021-11-10   \n",
       "28274  Former VOC Delta GK (B.1.617.2+AY.*) first det...      2021-11-06   \n",
       "28275  Former VOC Delta GK (B.1.617.2+AY.*) first det...      2021-11-06   \n",
       "28276  Former VOC Delta GK (B.1.617.2+AY.*) first det...      2021-11-10   \n",
       "28277  Former VOC Delta GK (B.1.617.2+AY.*) first det...      2021-11-09   \n",
       "\n",
       "                                 Location  \n",
       "0       Europe / United Kingdom / England  \n",
       "1       Europe / United Kingdom / England  \n",
       "2       Europe / United Kingdom / England  \n",
       "3      Europe / United Kingdom / Scotland  \n",
       "4       Europe / United Kingdom / England  \n",
       "...                                   ...  \n",
       "28273   Europe / United Kingdom / England  \n",
       "28274   Europe / United Kingdom / England  \n",
       "28275     Europe / United Kingdom / Wales  \n",
       "28276   Europe / United Kingdom / England  \n",
       "28277   Europe / United Kingdom / England  \n",
       "\n",
       "[28278 rows x 8 columns]"
      ]
     },
     "execution_count": 65,
     "metadata": {},
     "output_type": "execute_result"
    }
   ],
   "source": [
    "metadata = pd.read_csv('Metadata/earliest_haplo_spike_UK.tsv',sep='\\t')\n",
    "metadata"
   ]
  },
  {
   "cell_type": "code",
   "execution_count": 66,
   "id": "84715101-6f85-44d1-8498-750d3d100299",
   "metadata": {},
   "outputs": [],
   "source": [
    "initial_sequences_ungapped = pd.merge(initial_sequences_ungapped,metadata,how='left',left_on='label',right_on='SequenceID')"
   ]
  },
  {
   "cell_type": "code",
   "execution_count": 67,
   "id": "2a514f05-b018-4db1-bee1-4fbf2ceeef4c",
   "metadata": {},
   "outputs": [],
   "source": [
    "initial_sequences_ungapped = initial_sequences_ungapped[(initial_sequences_ungapped.sequence_length >= 1265) & (initial_sequences_ungapped.ClusterSize > 1)]"
   ]
  },
  {
   "cell_type": "code",
   "execution_count": null,
   "id": "bc43cea8-aa9f-4ce8-b3ca-616339f5e207",
   "metadata": {},
   "outputs": [],
   "source": [
    "# initial_sequences_ungapped.to_csv('PAPER_SEQUENCES/whole_pandemic_sequences/embeddings_and_logits.tsv',sep='\\t')"
   ]
  },
  {
   "cell_type": "markdown",
   "id": "ea6afae9-073c-4c28-bf42-128eddf12df8",
   "metadata": {
    "tags": []
   },
   "source": [
    "# Make logits to grammaticalities so that they can be compared (logits have different lengths)"
   ]
  },
  {
   "cell_type": "code",
   "execution_count": 68,
   "id": "e91fca61-fcc7-4ae1-9755-74e79ae435a4",
   "metadata": {},
   "outputs": [],
   "source": [
    "initial_sequences_ungapped['sequence_grammaticality'] = [np.sum(row.sequence_logits[:-1]) for i,row in initial_sequences_ungapped.iterrows()]"
   ]
  },
  {
   "cell_type": "markdown",
   "id": "9f746a95-9b1b-4bca-bc3c-9a2c87a37524",
   "metadata": {
    "tags": []
   },
   "source": [
    "# Sliding Windows"
   ]
  },
  {
   "cell_type": "code",
   "execution_count": 70,
   "id": "e24ba5e6-7b29-4173-be69-8facca75a048",
   "metadata": {},
   "outputs": [
    {
     "name": "stderr",
     "output_type": "stream",
     "text": [
      "100%|██████████| 1/1 [00:00<00:00, 139.10it/s]\n"
     ]
    },
    {
     "data": {
      "text/html": [
       "<div>\n",
       "<style scoped>\n",
       "    .dataframe tbody tr th:only-of-type {\n",
       "        vertical-align: middle;\n",
       "    }\n",
       "\n",
       "    .dataframe tbody tr th {\n",
       "        vertical-align: top;\n",
       "    }\n",
       "\n",
       "    .dataframe thead th {\n",
       "        text-align: right;\n",
       "    }\n",
       "</style>\n",
       "<table border=\"1\" class=\"dataframe\">\n",
       "  <thead>\n",
       "    <tr style=\"text-align: right;\">\n",
       "      <th></th>\n",
       "      <th>date</th>\n",
       "      <th>mean_sliding_embedding</th>\n",
       "      <th>mean_sliding_sequence_grammaticality</th>\n",
       "    </tr>\n",
       "  </thead>\n",
       "  <tbody>\n",
       "    <tr>\n",
       "      <th>0</th>\n",
       "      <td>2021-01-28</td>\n",
       "      <td>[-0.022479594685137272, -0.019179771654307842,...</td>\n",
       "      <td>-433.834684</td>\n",
       "    </tr>\n",
       "  </tbody>\n",
       "</table>\n",
       "</div>"
      ],
      "text/plain": [
       "        date                             mean_sliding_embedding  \\\n",
       "0 2021-01-28  [-0.022479594685137272, -0.019179771654307842,...   \n",
       "\n",
       "  mean_sliding_sequence_grammaticality  \n",
       "0                          -433.834684  "
      ]
     },
     "execution_count": 70,
     "metadata": {},
     "output_type": "execute_result"
    }
   ],
   "source": [
    "from itertools import chain\n",
    "from datetime import datetime, timedelta\n",
    "from tqdm import tqdm\n",
    "dates = {}\n",
    "\n",
    "# min_date = combined_embedding_tables.sample_date.iloc[0]\n",
    "min_date = datetime(2019, 12, 1)\n",
    "max_date = initial_sequences_ungapped.sample_date.max()\n",
    "weighted = False\n",
    "\n",
    "time_period=90\n",
    "sliding_window_embeddings = []\n",
    "for current_date in tqdm(initial_sequences_ungapped.sort_values('sample_date').sample_date.unique()):\n",
    "    current_date = pd.Timestamp(current_date)\n",
    "    vaild_dates  = initial_sequences_ungapped[(initial_sequences_ungapped.sample_date<=current_date) & (initial_sequences_ungapped.sample_date>=(current_date) - timedelta(days=time_period))]\n",
    "    if len(vaild_dates) !=0:\n",
    "#         print(vaild_dates)\n",
    "        internal = []\n",
    "        if weighted == True:\n",
    "            for j, internal_row in vaild_dates.iterrows():\n",
    "                internal+=[internal_row for k in range(internal_row.ClusterSize)]\n",
    "                internal = pd.concat(internal,axis=1).T\n",
    "        else:\n",
    "            internal = vaild_dates\n",
    "        valid_embeddings = np.vstack(internal.embedding.to_list()).mean(axis=0)\n",
    "        valid_sequence_grammaticality = internal.sequence_grammaticality.mean(axis=0)\n",
    "        sliding_window_embeddings.append(pd.Series({\"date\":current_date,\n",
    "                                                    \"mean_sliding_embedding\":valid_embeddings,\n",
    "                                                    \"mean_sliding_sequence_grammaticality\":valid_sequence_grammaticality,\n",
    "                                                    }))\n",
    "    current_date = current_date +  timedelta(days=time_period)\n",
    "sliding_window_embeddings = pd.concat(sliding_window_embeddings,axis=1).T\n",
    "sliding_window_embeddings"
   ]
  },
  {
   "cell_type": "code",
   "execution_count": 71,
   "id": "e0bcb7ea-50e3-4808-93f2-97e9325d5b13",
   "metadata": {},
   "outputs": [],
   "source": [
    "sliding_window_embeddings['mean_sliding_embedding_semantic_score'] = [float(sum(abs(target-base) for base, target in zip(haplotype_sequence_embeddings['S:0']['Reference']['Mean_Embedding'],row.mean_sliding_embedding)))\n",
    "                                                                      for i,row in sliding_window_embeddings.iterrows()]"
   ]
  },
  {
   "cell_type": "code",
   "execution_count": 100,
   "id": "0ff4c90a-f7b6-41eb-8ba7-f726f2647e72",
   "metadata": {},
   "outputs": [],
   "source": [
    "sliding_window_embeddings.to_csv('Scores/90_day_mean_sliding_embeddings',sep='\\t')"
   ]
  },
  {
   "cell_type": "code",
   "execution_count": 73,
   "id": "b89815e5-43aa-4ab6-a9e7-fb99966b83db",
   "metadata": {},
   "outputs": [],
   "source": [
    "sliding_rows = []\n",
    "for i,row in initial_sequences_ungapped.iterrows():\n",
    "    embedding_date = str(row.sample_date)[:10]\n",
    "    if embedding_date == 'NaT':\n",
    "        sliding_rows.append(pd.DataFrame([row.label, np.nan,  np.nan]).T)\n",
    "    else:\n",
    "        embedding_date = datetime.strptime(embedding_date, '%Y-%m-%d')\n",
    "        embedding = row.embedding\n",
    "        sliding_row = sliding_window_embeddings[sliding_window_embeddings.date == embedding_date]\n",
    "\n",
    "        sliding_window_semantic_score = float(sum(abs(target-base) for target, base in zip(embedding ,sliding_row.mean_sliding_embedding.iloc[0])))\n",
    "        sliding_window_sequence_grammaticality = row[\"sequence_grammaticality\"] - sliding_row.mean_sliding_sequence_grammaticality.iloc[0]\n",
    "        new_row = pd.DataFrame([row.label,sliding_window_semantic_score, sliding_window_sequence_grammaticality]).T\n",
    "        sliding_rows.append(new_row)"
   ]
  },
  {
   "cell_type": "code",
   "execution_count": 74,
   "id": "b70cddfb-7ea8-4bf5-97c3-e35e93089fdc",
   "metadata": {},
   "outputs": [],
   "source": [
    "sliding_rows = pd.concat(sliding_rows)"
   ]
  },
  {
   "cell_type": "code",
   "execution_count": 75,
   "id": "77f157da-88fe-47c0-b283-e34738d2bf84",
   "metadata": {},
   "outputs": [],
   "source": [
    "sliding_rows.columns = ['label','sliding_semantic_score','sliding_sequence_grammaticality']"
   ]
  },
  {
   "cell_type": "code",
   "execution_count": 76,
   "id": "a2475ba6-0518-4b23-8597-e18980ab89a8",
   "metadata": {},
   "outputs": [],
   "source": [
    "initial_table = pd.merge(initial_sequences_ungapped,sliding_rows,how='left',left_on='label',right_on='label')"
   ]
  },
  {
   "cell_type": "code",
   "execution_count": 77,
   "id": "e50397fc-6aed-4283-a476-8c9f2fd00271",
   "metadata": {},
   "outputs": [],
   "source": [
    "initial_table = pd.merge(initial_table,metadata,how='left',left_on='label',right_on='SequenceID')"
   ]
  },
  {
   "cell_type": "code",
   "execution_count": 78,
   "id": "a5d32cc4-0666-44d0-b41d-17cfed9fd000",
   "metadata": {},
   "outputs": [
    {
     "data": {
      "text/html": [
       "<div>\n",
       "<style scoped>\n",
       "    .dataframe tbody tr th:only-of-type {\n",
       "        vertical-align: middle;\n",
       "    }\n",
       "\n",
       "    .dataframe tbody tr th {\n",
       "        vertical-align: top;\n",
       "    }\n",
       "\n",
       "    .dataframe thead th {\n",
       "        text-align: right;\n",
       "    }\n",
       "</style>\n",
       "<table border=\"1\" class=\"dataframe\">\n",
       "  <thead>\n",
       "    <tr style=\"text-align: right;\">\n",
       "      <th></th>\n",
       "      <th>label</th>\n",
       "      <th>sequence</th>\n",
       "      <th>sequence_logits</th>\n",
       "      <th>embedding</th>\n",
       "      <th>sample_date</th>\n",
       "      <th>sequence_length</th>\n",
       "      <th>SequenceID_x</th>\n",
       "      <th>ClusterName_x</th>\n",
       "      <th>ClusterSize_x</th>\n",
       "      <th>Clade_x</th>\n",
       "      <th>...</th>\n",
       "      <th>sliding_semantic_score</th>\n",
       "      <th>sliding_sequence_grammaticality</th>\n",
       "      <th>SequenceID_y</th>\n",
       "      <th>ClusterName_y</th>\n",
       "      <th>ClusterSize_y</th>\n",
       "      <th>Clade_y</th>\n",
       "      <th>Pango lineage_y</th>\n",
       "      <th>Variant_y</th>\n",
       "      <th>Collection date_y</th>\n",
       "      <th>Location_y</th>\n",
       "    </tr>\n",
       "  </thead>\n",
       "  <tbody>\n",
       "    <tr>\n",
       "      <th>0</th>\n",
       "      <td>EPI_ISL_1180015</td>\n",
       "      <td>MFVFLVLLPLVSSQCVNLTTRTQLPPAYTNSFTRGVYYPDKVFRSS...</td>\n",
       "      <td>[-0.0005610798834823072, -0.14159958064556122,...</td>\n",
       "      <td>[-0.022716747596859932, -0.019655432552099228,...</td>\n",
       "      <td>2021-01-28</td>\n",
       "      <td>1273</td>\n",
       "      <td>EPI_ISL_1180015</td>\n",
       "      <td>Cluster 47</td>\n",
       "      <td>7</td>\n",
       "      <td>GV</td>\n",
       "      <td>...</td>\n",
       "      <td>1.374365</td>\n",
       "      <td>2.447372</td>\n",
       "      <td>EPI_ISL_1180015</td>\n",
       "      <td>Cluster 47</td>\n",
       "      <td>7</td>\n",
       "      <td>GV</td>\n",
       "      <td>B.1.177</td>\n",
       "      <td>NaN</td>\n",
       "      <td>2021-01-28</td>\n",
       "      <td>Europe / United Kingdom / England</td>\n",
       "    </tr>\n",
       "    <tr>\n",
       "      <th>1</th>\n",
       "      <td>EPI_ISL_1180033</td>\n",
       "      <td>MFVFLVLLPLVSSQCVNLTTRTQLPPAYTNSFTRGVYYPDKVFRSS...</td>\n",
       "      <td>[-0.0004577780782710761, -0.14605365693569183,...</td>\n",
       "      <td>[-0.022242441773414612, -0.018704110756516457,...</td>\n",
       "      <td>2021-01-28</td>\n",
       "      <td>1270</td>\n",
       "      <td>EPI_ISL_1180033</td>\n",
       "      <td>Cluster 14310</td>\n",
       "      <td>4</td>\n",
       "      <td>GRY</td>\n",
       "      <td>...</td>\n",
       "      <td>1.374365</td>\n",
       "      <td>-2.447372</td>\n",
       "      <td>EPI_ISL_1180033</td>\n",
       "      <td>Cluster 14310</td>\n",
       "      <td>4</td>\n",
       "      <td>GRY</td>\n",
       "      <td>B.1.1.7</td>\n",
       "      <td>Former VOC Alpha GRY (B.1.1.7+Q.*) first detec...</td>\n",
       "      <td>2021-01-28</td>\n",
       "      <td>Europe / United Kingdom / England</td>\n",
       "    </tr>\n",
       "  </tbody>\n",
       "</table>\n",
       "<p>2 rows × 25 columns</p>\n",
       "</div>"
      ],
      "text/plain": [
       "             label                                           sequence  \\\n",
       "0  EPI_ISL_1180015  MFVFLVLLPLVSSQCVNLTTRTQLPPAYTNSFTRGVYYPDKVFRSS...   \n",
       "1  EPI_ISL_1180033  MFVFLVLLPLVSSQCVNLTTRTQLPPAYTNSFTRGVYYPDKVFRSS...   \n",
       "\n",
       "                                     sequence_logits  \\\n",
       "0  [-0.0005610798834823072, -0.14159958064556122,...   \n",
       "1  [-0.0004577780782710761, -0.14605365693569183,...   \n",
       "\n",
       "                                           embedding sample_date  \\\n",
       "0  [-0.022716747596859932, -0.019655432552099228,...  2021-01-28   \n",
       "1  [-0.022242441773414612, -0.018704110756516457,...  2021-01-28   \n",
       "\n",
       "   sequence_length     SequenceID_x  ClusterName_x  ClusterSize_x Clade_x  \\\n",
       "0             1273  EPI_ISL_1180015     Cluster 47              7      GV   \n",
       "1             1270  EPI_ISL_1180033  Cluster 14310              4     GRY   \n",
       "\n",
       "   ... sliding_semantic_score sliding_sequence_grammaticality  \\\n",
       "0  ...               1.374365                        2.447372   \n",
       "1  ...               1.374365                       -2.447372   \n",
       "\n",
       "      SequenceID_y  ClusterName_y  ClusterSize_y Clade_y Pango lineage_y  \\\n",
       "0  EPI_ISL_1180015     Cluster 47              7      GV         B.1.177   \n",
       "1  EPI_ISL_1180033  Cluster 14310              4     GRY         B.1.1.7   \n",
       "\n",
       "                                           Variant_y Collection date_y  \\\n",
       "0                                                NaN        2021-01-28   \n",
       "1  Former VOC Alpha GRY (B.1.1.7+Q.*) first detec...        2021-01-28   \n",
       "\n",
       "                          Location_y  \n",
       "0  Europe / United Kingdom / England  \n",
       "1  Europe / United Kingdom / England  \n",
       "\n",
       "[2 rows x 25 columns]"
      ]
     },
     "execution_count": 78,
     "metadata": {},
     "output_type": "execute_result"
    }
   ],
   "source": [
    "initial_table"
   ]
  },
  {
   "cell_type": "code",
   "execution_count": 79,
   "id": "ef3fa833-e7d8-4e75-a584-cf155a06dbff",
   "metadata": {},
   "outputs": [],
   "source": [
    "initial_table.columns = [col[:-2] if 'x' in col else col for col in initial_table.columns]"
   ]
  },
  {
   "cell_type": "code",
   "execution_count": 80,
   "id": "1d72343c-64dc-4793-9bf3-357cc67de251",
   "metadata": {},
   "outputs": [],
   "source": [
    "initial_table = initial_table[initial_table.columns[:-8]]"
   ]
  },
  {
   "cell_type": "code",
   "execution_count": 81,
   "id": "47d6b3e3-7da4-4918-bebe-bd9c3c8aa929",
   "metadata": {},
   "outputs": [],
   "source": [
    "indel_table.columns = ['label','semantic_score','sequence_grammaticality','sequence_relative_grammaticality']"
   ]
  },
  {
   "cell_type": "code",
   "execution_count": 82,
   "id": "6a9724fd-31ac-47d2-b42b-2f93b42cc963",
   "metadata": {},
   "outputs": [],
   "source": [
    "initial_table.columns = ['label', 'sequence', 'sequence_logits','embedding','sample_date',\n",
    "       'sequence_length','sequence_id', 'cluster_name',\n",
    "       'cluster_size', 'clade', 'lineage', 'Voc', 'collection_date',\n",
    "       'location','sequence_grammaticality', 'sliding_semantic_score',\n",
    "       'sliding_sequence_grammaticality', ]"
   ]
  },
  {
   "cell_type": "code",
   "execution_count": 83,
   "id": "b36019c3-b2b9-40f3-b7c1-a1b563dd301e",
   "metadata": {},
   "outputs": [
    {
     "data": {
      "text/html": [
       "<div>\n",
       "<style scoped>\n",
       "    .dataframe tbody tr th:only-of-type {\n",
       "        vertical-align: middle;\n",
       "    }\n",
       "\n",
       "    .dataframe tbody tr th {\n",
       "        vertical-align: top;\n",
       "    }\n",
       "\n",
       "    .dataframe thead th {\n",
       "        text-align: right;\n",
       "    }\n",
       "</style>\n",
       "<table border=\"1\" class=\"dataframe\">\n",
       "  <thead>\n",
       "    <tr style=\"text-align: right;\">\n",
       "      <th></th>\n",
       "      <th>label</th>\n",
       "      <th>sequence</th>\n",
       "      <th>sequence_logits</th>\n",
       "      <th>embedding</th>\n",
       "      <th>sample_date</th>\n",
       "      <th>sequence_length</th>\n",
       "      <th>sequence_id</th>\n",
       "      <th>cluster_name</th>\n",
       "      <th>cluster_size</th>\n",
       "      <th>clade</th>\n",
       "      <th>lineage</th>\n",
       "      <th>Voc</th>\n",
       "      <th>collection_date</th>\n",
       "      <th>location</th>\n",
       "      <th>sequence_grammaticality</th>\n",
       "      <th>sliding_semantic_score</th>\n",
       "      <th>sliding_sequence_grammaticality</th>\n",
       "    </tr>\n",
       "  </thead>\n",
       "  <tbody>\n",
       "    <tr>\n",
       "      <th>0</th>\n",
       "      <td>EPI_ISL_1180015</td>\n",
       "      <td>MFVFLVLLPLVSSQCVNLTTRTQLPPAYTNSFTRGVYYPDKVFRSS...</td>\n",
       "      <td>[-0.0005610798834823072, -0.14159958064556122,...</td>\n",
       "      <td>[-0.022716747596859932, -0.019655432552099228,...</td>\n",
       "      <td>2021-01-28</td>\n",
       "      <td>1273</td>\n",
       "      <td>EPI_ISL_1180015</td>\n",
       "      <td>Cluster 47</td>\n",
       "      <td>7</td>\n",
       "      <td>GV</td>\n",
       "      <td>B.1.177</td>\n",
       "      <td>NaN</td>\n",
       "      <td>2021-01-28</td>\n",
       "      <td>Europe / United Kingdom / England</td>\n",
       "      <td>-431.387312</td>\n",
       "      <td>1.374365</td>\n",
       "      <td>2.447372</td>\n",
       "    </tr>\n",
       "    <tr>\n",
       "      <th>1</th>\n",
       "      <td>EPI_ISL_1180033</td>\n",
       "      <td>MFVFLVLLPLVSSQCVNLTTRTQLPPAYTNSFTRGVYYPDKVFRSS...</td>\n",
       "      <td>[-0.0004577780782710761, -0.14605365693569183,...</td>\n",
       "      <td>[-0.022242441773414612, -0.018704110756516457,...</td>\n",
       "      <td>2021-01-28</td>\n",
       "      <td>1270</td>\n",
       "      <td>EPI_ISL_1180033</td>\n",
       "      <td>Cluster 14310</td>\n",
       "      <td>4</td>\n",
       "      <td>GRY</td>\n",
       "      <td>B.1.1.7</td>\n",
       "      <td>Former VOC Alpha GRY (B.1.1.7+Q.*) first detec...</td>\n",
       "      <td>2021-01-28</td>\n",
       "      <td>Europe / United Kingdom / England</td>\n",
       "      <td>-436.282056</td>\n",
       "      <td>1.374365</td>\n",
       "      <td>-2.447372</td>\n",
       "    </tr>\n",
       "  </tbody>\n",
       "</table>\n",
       "</div>"
      ],
      "text/plain": [
       "             label                                           sequence  \\\n",
       "0  EPI_ISL_1180015  MFVFLVLLPLVSSQCVNLTTRTQLPPAYTNSFTRGVYYPDKVFRSS...   \n",
       "1  EPI_ISL_1180033  MFVFLVLLPLVSSQCVNLTTRTQLPPAYTNSFTRGVYYPDKVFRSS...   \n",
       "\n",
       "                                     sequence_logits  \\\n",
       "0  [-0.0005610798834823072, -0.14159958064556122,...   \n",
       "1  [-0.0004577780782710761, -0.14605365693569183,...   \n",
       "\n",
       "                                           embedding sample_date  \\\n",
       "0  [-0.022716747596859932, -0.019655432552099228,...  2021-01-28   \n",
       "1  [-0.022242441773414612, -0.018704110756516457,...  2021-01-28   \n",
       "\n",
       "   sequence_length      sequence_id   cluster_name  cluster_size clade  \\\n",
       "0             1273  EPI_ISL_1180015     Cluster 47             7    GV   \n",
       "1             1270  EPI_ISL_1180033  Cluster 14310             4   GRY   \n",
       "\n",
       "   lineage                                                Voc collection_date  \\\n",
       "0  B.1.177                                                NaN      2021-01-28   \n",
       "1  B.1.1.7  Former VOC Alpha GRY (B.1.1.7+Q.*) first detec...      2021-01-28   \n",
       "\n",
       "                            location  sequence_grammaticality  \\\n",
       "0  Europe / United Kingdom / England              -431.387312   \n",
       "1  Europe / United Kingdom / England              -436.282056   \n",
       "\n",
       "  sliding_semantic_score sliding_sequence_grammaticality  \n",
       "0               1.374365                        2.447372  \n",
       "1               1.374365                       -2.447372  "
      ]
     },
     "execution_count": 83,
     "metadata": {},
     "output_type": "execute_result"
    }
   ],
   "source": [
    "initial_table"
   ]
  },
  {
   "cell_type": "code",
   "execution_count": 84,
   "id": "fa5bd800-80b0-44a6-8dbc-811f496a45c2",
   "metadata": {},
   "outputs": [
    {
     "name": "stderr",
     "output_type": "stream",
     "text": [
      "/var/folders/jn/nh_8nv5x4rd2m008tqdzwhd40000gn/T/ipykernel_4084/775765530.py:1: SettingWithCopyWarning: \n",
      "A value is trying to be set on a copy of a slice from a DataFrame.\n",
      "Try using .loc[row_indexer,col_indexer] = value instead\n",
      "\n",
      "See the caveats in the documentation: https://pandas.pydata.org/pandas-docs/stable/user_guide/indexing.html#returning-a-view-versus-a-copy\n",
      "  initial_table.Voc = initial_table.Voc.fillna('Non-VOC')\n"
     ]
    }
   ],
   "source": [
    "initial_table.Voc = initial_table.Voc.fillna('Non-VOC')"
   ]
  },
  {
   "cell_type": "code",
   "execution_count": 85,
   "id": "94522196-aa2d-4dc1-9ca4-423e411fba41",
   "metadata": {},
   "outputs": [
    {
     "name": "stderr",
     "output_type": "stream",
     "text": [
      "/var/folders/jn/nh_8nv5x4rd2m008tqdzwhd40000gn/T/ipykernel_4084/4291260069.py:1: SettingWithCopyWarning: \n",
      "A value is trying to be set on a copy of a slice from a DataFrame\n",
      "\n",
      "See the caveats in the documentation: https://pandas.pydata.org/pandas-docs/stable/user_guide/indexing.html#returning-a-view-versus-a-copy\n",
      "  initial_table.rename(columns = {'Voc':'Variant'},inplace=True)\n"
     ]
    }
   ],
   "source": [
    "initial_table.rename(columns = {'Voc':'Variant'},inplace=True)"
   ]
  },
  {
   "cell_type": "code",
   "execution_count": 86,
   "id": "3171fea2-a0cc-4402-a6f3-7e8ac9523a7e",
   "metadata": {},
   "outputs": [],
   "source": [
    "initial_table = pd.merge(initial_table,indel_table,how='left',left_on='label',right_on='label')"
   ]
  },
  {
   "cell_type": "code",
   "execution_count": 87,
   "id": "4f1a5097-4f1f-4c59-a85f-a6f88d950262",
   "metadata": {},
   "outputs": [],
   "source": [
    "initial_table = initial_table.drop('sequence_grammaticality_x',axis=1)"
   ]
  },
  {
   "cell_type": "code",
   "execution_count": 88,
   "id": "c8efea42-ce42-4787-bd43-695c86367faa",
   "metadata": {},
   "outputs": [],
   "source": [
    "initial_table = initial_table.rename(columns={'sequence_grammaticality_y':'sequence_grammaticality'})"
   ]
  },
  {
   "cell_type": "code",
   "execution_count": 89,
   "id": "411d639e-c66f-422d-9da1-abbbf7b12c9d",
   "metadata": {},
   "outputs": [
    {
     "data": {
      "text/html": [
       "<div>\n",
       "<style scoped>\n",
       "    .dataframe tbody tr th:only-of-type {\n",
       "        vertical-align: middle;\n",
       "    }\n",
       "\n",
       "    .dataframe tbody tr th {\n",
       "        vertical-align: top;\n",
       "    }\n",
       "\n",
       "    .dataframe thead th {\n",
       "        text-align: right;\n",
       "    }\n",
       "</style>\n",
       "<table border=\"1\" class=\"dataframe\">\n",
       "  <thead>\n",
       "    <tr style=\"text-align: right;\">\n",
       "      <th></th>\n",
       "      <th>label</th>\n",
       "      <th>sequence</th>\n",
       "      <th>sequence_logits</th>\n",
       "      <th>embedding</th>\n",
       "      <th>sample_date</th>\n",
       "      <th>sequence_length</th>\n",
       "      <th>sequence_id</th>\n",
       "      <th>cluster_name</th>\n",
       "      <th>cluster_size</th>\n",
       "      <th>clade</th>\n",
       "      <th>lineage</th>\n",
       "      <th>Variant</th>\n",
       "      <th>collection_date</th>\n",
       "      <th>location</th>\n",
       "      <th>sliding_semantic_score</th>\n",
       "      <th>sliding_sequence_grammaticality</th>\n",
       "      <th>semantic_score</th>\n",
       "      <th>sequence_grammaticality</th>\n",
       "      <th>sequence_relative_grammaticality</th>\n",
       "    </tr>\n",
       "  </thead>\n",
       "  <tbody>\n",
       "    <tr>\n",
       "      <th>0</th>\n",
       "      <td>EPI_ISL_1180015</td>\n",
       "      <td>MFVFLVLLPLVSSQCVNLTTRTQLPPAYTNSFTRGVYYPDKVFRSS...</td>\n",
       "      <td>[-0.0005610798834823072, -0.14159958064556122,...</td>\n",
       "      <td>[-0.022716747596859932, -0.019655432552099228,...</td>\n",
       "      <td>2021-01-28</td>\n",
       "      <td>1273</td>\n",
       "      <td>EPI_ISL_1180015</td>\n",
       "      <td>Cluster 47</td>\n",
       "      <td>7</td>\n",
       "      <td>GV</td>\n",
       "      <td>B.1.177</td>\n",
       "      <td>Non-VOC</td>\n",
       "      <td>2021-01-28</td>\n",
       "      <td>Europe / United Kingdom / England</td>\n",
       "      <td>1.374365</td>\n",
       "      <td>2.447372</td>\n",
       "      <td>1.709495</td>\n",
       "      <td>-431.387299</td>\n",
       "      <td>-1.273407</td>\n",
       "    </tr>\n",
       "    <tr>\n",
       "      <th>1</th>\n",
       "      <td>EPI_ISL_1180033</td>\n",
       "      <td>MFVFLVLLPLVSSQCVNLTTRTQLPPAYTNSFTRGVYYPDKVFRSS...</td>\n",
       "      <td>[-0.0004577780782710761, -0.14605365693569183,...</td>\n",
       "      <td>[-0.022242441773414612, -0.018704110756516457,...</td>\n",
       "      <td>2021-01-28</td>\n",
       "      <td>1270</td>\n",
       "      <td>EPI_ISL_1180033</td>\n",
       "      <td>Cluster 14310</td>\n",
       "      <td>4</td>\n",
       "      <td>GRY</td>\n",
       "      <td>B.1.1.7</td>\n",
       "      <td>Former VOC Alpha GRY (B.1.1.7+Q.*) first detec...</td>\n",
       "      <td>2021-01-28</td>\n",
       "      <td>Europe / United Kingdom / England</td>\n",
       "      <td>1.374365</td>\n",
       "      <td>-2.447372</td>\n",
       "      <td>3.192038</td>\n",
       "      <td>-436.282074</td>\n",
       "      <td>-6.168182</td>\n",
       "    </tr>\n",
       "  </tbody>\n",
       "</table>\n",
       "</div>"
      ],
      "text/plain": [
       "             label                                           sequence  \\\n",
       "0  EPI_ISL_1180015  MFVFLVLLPLVSSQCVNLTTRTQLPPAYTNSFTRGVYYPDKVFRSS...   \n",
       "1  EPI_ISL_1180033  MFVFLVLLPLVSSQCVNLTTRTQLPPAYTNSFTRGVYYPDKVFRSS...   \n",
       "\n",
       "                                     sequence_logits  \\\n",
       "0  [-0.0005610798834823072, -0.14159958064556122,...   \n",
       "1  [-0.0004577780782710761, -0.14605365693569183,...   \n",
       "\n",
       "                                           embedding sample_date  \\\n",
       "0  [-0.022716747596859932, -0.019655432552099228,...  2021-01-28   \n",
       "1  [-0.022242441773414612, -0.018704110756516457,...  2021-01-28   \n",
       "\n",
       "   sequence_length      sequence_id   cluster_name  cluster_size clade  \\\n",
       "0             1273  EPI_ISL_1180015     Cluster 47             7    GV   \n",
       "1             1270  EPI_ISL_1180033  Cluster 14310             4   GRY   \n",
       "\n",
       "   lineage                                            Variant collection_date  \\\n",
       "0  B.1.177                                            Non-VOC      2021-01-28   \n",
       "1  B.1.1.7  Former VOC Alpha GRY (B.1.1.7+Q.*) first detec...      2021-01-28   \n",
       "\n",
       "                            location sliding_semantic_score  \\\n",
       "0  Europe / United Kingdom / England               1.374365   \n",
       "1  Europe / United Kingdom / England               1.374365   \n",
       "\n",
       "  sliding_sequence_grammaticality semantic_score sequence_grammaticality  \\\n",
       "0                        2.447372       1.709495             -431.387299   \n",
       "1                       -2.447372       3.192038             -436.282074   \n",
       "\n",
       "  sequence_relative_grammaticality  \n",
       "0                        -1.273407  \n",
       "1                        -6.168182  "
      ]
     },
     "execution_count": 89,
     "metadata": {},
     "output_type": "execute_result"
    }
   ],
   "source": [
    "initial_table"
   ]
  },
  {
   "cell_type": "code",
   "execution_count": 91,
   "id": "b56de502-2737-404a-a298-b32537547f81",
   "metadata": {},
   "outputs": [],
   "source": [
    "final_table = pd.merge(initial_table[['label',\n",
    "       'sequence_length','sliding_semantic_score',\n",
    "       'sliding_sequence_grammaticality']],pd.read_csv('Scores/haplotype_scores.csv'),how='left',left_on='label',right_on='label')"
   ]
  },
  {
   "cell_type": "code",
   "execution_count": 92,
   "id": "c20701fe-9b31-4dd5-907a-f6777f2cb465",
   "metadata": {},
   "outputs": [],
   "source": [
    "final_table.columns = [c.replace('indel_','') for c in final_table.columns]"
   ]
  },
  {
   "cell_type": "code",
   "execution_count": 94,
   "id": "ce52862c-7e66-4b6e-8b78-f29c502e0ba6",
   "metadata": {},
   "outputs": [],
   "source": [
    "voc_df = pd.DataFrame([initial_table.Variant.unique(),\n",
    "                       ['Non-VOC','Alpha','Lambda','Beta','Iota','Kappa','Eta','Mu','Delta','Zeta','Epsilon','Gamma','Omicron','Omicron','Omicron','Omicron','Omicron','Omicron','Omicron','Omicron','Omicron','Omicron','Omicron','Omicron']]).T\n",
    "voc_df.columns = ['Variant','Voc']\n",
    "final_table = final_table.rename(columns={\"Voc\":'Variant'})\n",
    "final_table = pd.merge(final_table,voc_df,\n",
    "         how='left',left_on='Variant',right_on='Variant')"
   ]
  },
  {
   "cell_type": "code",
   "execution_count": 95,
   "id": "db1541d9-b993-4604-a92f-b7d595d5d19b",
   "metadata": {},
   "outputs": [],
   "source": [
    "final_table.Voc = final_table.Voc.fillna('Non-VOC')"
   ]
  },
  {
   "cell_type": "code",
   "execution_count": 96,
   "id": "ab0170e2-355b-4c41-a728-f482f63c6883",
   "metadata": {},
   "outputs": [],
   "source": [
    "#Filter spikes with no submission time\n",
    "final_table = final_table[final_table.sample_date.isna() == False]"
   ]
  },
  {
   "cell_type": "code",
   "execution_count": 98,
   "id": "a889f497-9e4f-4ece-add2-415e2e7069d3",
   "metadata": {},
   "outputs": [],
   "source": [
    "final_table.to_csv('Scores/90_proper_earliest_haplo_spike_with_sliding_windows_scores.csv')\n",
    "              "
   ]
  },
  {
   "cell_type": "code",
   "execution_count": 99,
   "id": "9c3c8d44-ac8c-4529-9588-8876d2aca609",
   "metadata": {},
   "outputs": [],
   "source": [
    "initial_table.to_csv('Scores/updated_90_proper_earliest_haplo_spike_with_sliding_windows.tsv',sep='\\t')"
   ]
  }
 ],
 "metadata": {
  "accelerator": "GPU",
  "colab": {
   "collapsed_sections": [
    "EIDK9H-dsj4-",
    "dvifJu39sg89",
    "_6-DG2B3seTT",
    "cb_ttyiKsKOb"
   ],
   "machine_shape": "hm",
   "provenance": []
  },
  "kernelspec": {
   "display_name": "Python 3 (ipykernel)",
   "language": "python",
   "name": "python3"
  },
  "language_info": {
   "codemirror_mode": {
    "name": "ipython",
    "version": 3
   },
   "file_extension": ".py",
   "mimetype": "text/x-python",
   "name": "python",
   "nbconvert_exporter": "python",
   "pygments_lexer": "ipython3",
   "version": "3.10.4"
  }
 },
 "nbformat": 4,
 "nbformat_minor": 5
}
