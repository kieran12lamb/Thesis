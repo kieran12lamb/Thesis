{
 "cells": [
  {
   "cell_type": "markdown",
   "id": "cd0299b9-a298-4872-a8f8-8f7129dbc748",
   "metadata": {
    "id": "cd0299b9-a298-4872-a8f8-8f7129dbc748",
    "tags": []
   },
   "source": [
    "# Load Model into GPU"
   ]
  },
  {
   "cell_type": "code",
   "execution_count": 1,
   "id": "ae9f1cf8",
   "metadata": {},
   "outputs": [],
   "source": [
    "%load_ext autoreload\n",
    "%autoreload 2\n",
    "import torch\n",
    "import esm\n",
    "from Shared_Functions import *"
   ]
  },
  {
   "cell_type": "code",
   "execution_count": 2,
   "id": "60afd8d4-1ec3-4db6-aa06-fb15b86c0bb7",
   "metadata": {
    "colab": {
     "background_save": true,
     "base_uri": "https://localhost:8080/"
    },
    "id": "60afd8d4-1ec3-4db6-aa06-fb15b86c0bb7",
    "outputId": "83d0799e-dab7-42cb-fd81-3ec124be724c"
   },
   "outputs": [],
   "source": [
    "model, alphabet = esm.pretrained.load_model_and_alphabet('esm2_t36_3B_UR50D')\n",
    "model.eval()\n",
    "batch_converter = alphabet.get_batch_converter()\n",
    "device = torch.device(\"cuda\")\n",
    "if torch.cuda.is_available():\n",
    "    model =  model.to(device)\n",
    "    print(\"Transferred model to GPU\")"
   ]
  },
  {
   "cell_type": "markdown",
   "id": "9b3207e2-bfa4-4928-aed5-4097adb50597",
   "metadata": {
    "id": "9b3207e2-bfa4-4928-aed5-4097adb50597",
    "tags": []
   },
   "source": [
    "# Download Reference Sequence and Embed"
   ]
  },
  {
   "cell_type": "code",
   "execution_count": 3,
   "id": "cb44b29a-b70c-461a-a7f6-53f229ad5e7d",
   "metadata": {
    "colab": {
     "background_save": true
    },
    "id": "cb44b29a-b70c-461a-a7f6-53f229ad5e7d"
   },
   "outputs": [],
   "source": [
    "from Bio import Entrez\n",
    "from Bio import SeqIO\n",
    "Entrez.email = \"sample@example.org\"\n",
    "handle = Entrez.efetch(db=\"nucleotide\",\n",
    "                       id=\"NC_045512.2\",\n",
    "                       rettype=\"gb\",\n",
    "                       retmode=\"gb\")\n",
    "whole_sequence = SeqIO.read(handle, \"genbank\")\n",
    "model_layers = 36"
   ]
  },
  {
   "cell_type": "code",
   "execution_count": 6,
   "id": "50e64d10-d0da-4620-a162-02525b1baeea",
   "metadata": {
    "colab": {
     "background_save": true,
     "base_uri": "https://localhost:8080/"
    },
    "id": "50e64d10-d0da-4620-a162-02525b1baeea",
    "outputId": "43649cf2-488d-4ef6-ff0b-43a11143ed95"
   },
   "outputs": [],
   "source": [
    "dms_results = process_and_dms_sequence_genbank(whole_sequence.seq,whole_sequence,model,model_layers,device,batch_converter,alphabet,)\n",
    "compressed_pickle('DMS/Results/sarscov2_all_dms',dms_results)"
   ]
  },
  {
   "cell_type": "markdown",
   "id": "1aeddfe8-9da9-4d37-a713-f9e0a3ea62c7",
   "metadata": {
    "tags": []
   },
   "source": [
    "# Annotate Spike Table"
   ]
  },
  {
   "cell_type": "code",
   "execution_count": null,
   "id": "ddd4e687",
   "metadata": {},
   "outputs": [],
   "source": [
    "dms_results=decompress_pickle('sarscov2_spike_dms.pbz2')\n",
    "mutations_list = list(dms_results['S:0'].keys())\n",
    "columns = ['label', 'semantic_score', 'grammaticality', 'relative_grammaticality', 'sequence_grammaticality', 'relative_sequence_grammaticality', 'probability']\n",
    "table = []\n",
    "for key in mutations_list:\n",
    "    if key != 'Reference':\n",
    "        row = pd.DataFrame([dms_results['S:0'][key].get(c) for c in columns]).T\n",
    "        row.columns = columns\n",
    "        table.append(row)\n",
    "dms_s_table = pd.concat(table)\n",
    "dms_s_table.to_csv('DMS/Results/Scores/sarscov2_s_dms_scores.csv',index=False)"
   ]
  },
  {
   "cell_type": "code",
   "execution_count": null,
   "id": "447c1a6c-b765-4770-95f1-cb81a8d9c12a",
   "metadata": {},
   "outputs": [],
   "source": [
    "dms_s_table = pd.read_csv('DMS/Results/Scores/sarscov2_s_dms_scores.csv')\n",
    "\n",
    "dms_s_table['ref'] = dms_s_table.label.str[0]\n",
    "dms_s_table['alt'] = dms_s_table.label.str[-1]\n",
    "dms_s_table['position'] = dms_s_table.label.str[1:-1].astype(int)\n",
    "\n",
    "#Keep Reference scores\n",
    "reference_s_table = dms_s_table[dms_s_table.ref == dms_s_table.alt]\n",
    "#Filter non mutations\n",
    "dms_s_table = dms_s_table[dms_s_table.ref != dms_s_table.alt]\n",
    "\n",
    "\n",
    "dms_s_table = dms_s_table.sort_values('semantic_score')\n",
    "dms_s_table['semantic_rank'] = dms_s_table.reset_index().index.astype(int) + 1\n",
    "dms_s_table = dms_s_table.sort_values('grammaticality')\n",
    "dms_s_table['grammatical_rank'] =dms_s_table .reset_index().index.astype(int) + 1\n",
    "dms_s_table['acquisition_priority'] = dms_s_table['semantic_rank'] + dms_s_table['grammatical_rank']\n",
    "\n",
    "dms_s_table = dms_s_table.sort_values('sequence_grammaticality')\n",
    "dms_s_table['sequence_grammatical_rank'] =dms_s_table.reset_index().index.astype(int) + 1\n",
    "dms_s_table['sequence_acquisition_priority'] = dms_s_table['semantic_rank'] + dms_s_table['sequence_grammatical_rank']\n"
   ]
  },
  {
   "cell_type": "code",
   "execution_count": null,
   "id": "db433ebc-e6f1-4335-83b9-43b689754108",
   "metadata": {},
   "outputs": [],
   "source": [
    "dms_s_table.to_csv('DMS/Results/Scores/sarscov2_s_dms_scores_annotated.csv')"
   ]
  }
 ],
 "metadata": {
  "accelerator": "GPU",
  "colab": {
   "collapsed_sections": [
    "EIDK9H-dsj4-",
    "dvifJu39sg89",
    "_6-DG2B3seTT",
    "cb_ttyiKsKOb"
   ],
   "machine_shape": "hm",
   "provenance": []
  },
  "kernelspec": {
   "display_name": "Python 3 (ipykernel)",
   "language": "python",
   "name": "python3"
  },
  "language_info": {
   "codemirror_mode": {
    "name": "ipython",
    "version": 3
   },
   "file_extension": ".py",
   "mimetype": "text/x-python",
   "name": "python",
   "nbconvert_exporter": "python",
   "pygments_lexer": "ipython3",
   "version": "3.10.4"
  }
 },
 "nbformat": 4,
 "nbformat_minor": 5
}
